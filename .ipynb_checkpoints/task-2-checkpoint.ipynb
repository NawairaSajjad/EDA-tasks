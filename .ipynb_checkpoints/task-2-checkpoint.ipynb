{
 "cells": [
  {
   "cell_type": "markdown",
   "id": "94f967de-9838-44aa-a7fe-8c26247eae2a",
   "metadata": {},
   "source": [
    "**Generate a 5×5 random NumPy matrix of deposits (in millions) for 5 Islamic banks across 5 years. Find max, min, mean, std.**"
   ]
  },
  {
   "cell_type": "code",
   "execution_count": null,
   "id": "c84d9e0a-b0ae-4042-b556-36379c9db21f",
   "metadata": {},
   "outputs": [],
   "source": []
  }
 ],
 "metadata": {
  "kernelspec": {
   "display_name": "Python 3 (ipykernel)",
   "language": "python",
   "name": "python3"
  },
  "language_info": {
   "codemirror_mode": {
    "name": "ipython",
    "version": 3
   },
   "file_extension": ".py",
   "mimetype": "text/x-python",
   "name": "python",
   "nbconvert_exporter": "python",
   "pygments_lexer": "ipython3",
   "version": "3.13.7"
  }
 },
 "nbformat": 4,
 "nbformat_minor": 5
}
