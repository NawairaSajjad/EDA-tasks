{
 "cells": [
  {
   "cell_type": "markdown",
   "id": "deeb5c5c-b65a-4c54-a27a-aea900d8046c",
   "metadata": {},
   "source": [
    "# Use NumPy to simulate daily prayer attendance in a mosque for 30 days. Reshape into 6×5, then extract 2nd row, 4th column, and a 3×3 sub-matrix."
   ]
  },
  {
   "cell_type": "code",
   "execution_count": 16,
   "id": "0bf4a6db-f04b-4264-bb17-528ddeb25bce",
   "metadata": {},
   "outputs": [],
   "source": [
    "import pandas as pd\n",
    "import numpy as np"
   ]
  },
  {
   "cell_type": "code",
   "execution_count": 26,
   "id": "fc080124-b069-4f4d-9f3a-6bd9e4d2aa6e",
   "metadata": {},
   "outputs": [],
   "source": [
    "attendance = np.random.randint(50, 500,(30))"
   ]
  },
  {
   "cell_type": "code",
   "execution_count": 29,
   "id": "4244ef69-e0b9-41e6-8d8f-0b3964c25dc2",
   "metadata": {},
   "outputs": [
    {
     "data": {
      "text/plain": [
       "array([[374, 448, 470, 106, 272],\n",
       "       [404, 209, 337, 378, 262],\n",
       "       [405,  86, 490, 294, 361],\n",
       "       [281, 461, 292, 496, 176],\n",
       "       [372, 184, 298, 228, 345],\n",
       "       [246, 314, 321, 351, 134]], dtype=int32)"
      ]
     },
     "execution_count": 29,
     "metadata": {},
     "output_type": "execute_result"
    }
   ],
   "source": [
    "arrangement = attendance.reshape(6,5)\n",
    "arrangement"
   ]
  },
  {
   "cell_type": "code",
   "execution_count": 38,
   "id": "c6a3c734-87a2-4734-9c6c-937df7f0603e",
   "metadata": {},
   "outputs": [
    {
     "data": {
      "text/plain": [
       "array([404, 209, 337, 378, 262], dtype=int32)"
      ]
     },
     "execution_count": 38,
     "metadata": {},
     "output_type": "execute_result"
    }
   ],
   "source": [
    "arrangement[1] #subsetting"
   ]
  },
  {
   "cell_type": "code",
   "execution_count": 41,
   "id": "64fd9b85-151f-4f5f-bcd2-29cf8a63508f",
   "metadata": {},
   "outputs": [
    {
     "data": {
      "text/plain": [
       "array([106, 378, 294, 496, 228], dtype=int32)"
      ]
     },
     "execution_count": 41,
     "metadata": {},
     "output_type": "execute_result"
    }
   ],
   "source": [
    "arrangement[0:5,3] #slicing"
   ]
  },
  {
   "cell_type": "code",
   "execution_count": 47,
   "id": "8cbc31ae-2a51-4919-ae92-aada82a5f5a2",
   "metadata": {},
   "outputs": [
    {
     "data": {
      "text/plain": [
       "array([[374, 448, 470],\n",
       "       [404, 209, 337],\n",
       "       [405,  86, 490]], dtype=int32)"
      ]
     },
     "execution_count": 47,
     "metadata": {},
     "output_type": "execute_result"
    }
   ],
   "source": [
    "arrangement[[0,1,2]][:,[0,1,2]] #fancy i"
   ]
  }
 ],
 "metadata": {
  "kernelspec": {
   "display_name": "Python 3 (ipykernel)",
   "language": "python",
   "name": "python3"
  },
  "language_info": {
   "codemirror_mode": {
    "name": "ipython",
    "version": 3
   },
   "file_extension": ".py",
   "mimetype": "text/x-python",
   "name": "python",
   "nbconvert_exporter": "python",
   "pygments_lexer": "ipython3",
   "version": "3.13.7"
  }
 },
 "nbformat": 4,
 "nbformat_minor": 5
}
