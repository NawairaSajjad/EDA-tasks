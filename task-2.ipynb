{
 "cells": [
  {
   "cell_type": "markdown",
   "id": "94f967de-9838-44aa-a7fe-8c26247eae2a",
   "metadata": {},
   "source": [
    "**Generate a 5×5 random NumPy matrix of deposits (in millions) for 5 Islamic banks across 5 years. Find max, min, mean, std.**"
   ]
  },
  {
   "cell_type": "code",
   "execution_count": 1,
   "id": "c84d9e0a-b0ae-4042-b556-36379c9db21f",
   "metadata": {},
   "outputs": [],
   "source": [
    "import numpy as np\n"
   ]
  },
  {
   "cell_type": "code",
   "execution_count": 27,
   "id": "238c06ba-daa9-40ca-a4a5-7da0c3c7424a",
   "metadata": {},
   "outputs": [
    {
     "data": {
      "text/plain": [
       "array([[43, 72, 81, 99,  3],\n",
       "       [51,  6, 24, 11, 10],\n",
       "       [21, 72, 53, 16, 41],\n",
       "       [43, 74, 52, 46, 67],\n",
       "       [91,  1, 15, 76, 34]], dtype=int32)"
      ]
     },
     "execution_count": 27,
     "metadata": {},
     "output_type": "execute_result"
    }
   ],
   "source": [
    "randomArray = np.random.randint(0,100,(5,5))\n",
    "randomArray"
   ]
  },
  {
   "cell_type": "code",
   "execution_count": 28,
   "id": "fae1e5de-695e-48a9-9af9-7a14137cf4c0",
   "metadata": {},
   "outputs": [
    {
     "data": {
      "text/plain": [
       "np.int32(99)"
      ]
     },
     "execution_count": 28,
     "metadata": {},
     "output_type": "execute_result"
    }
   ],
   "source": [
    "maximum = randomArray.max()\n",
    "\n",
    "maximum\n"
   ]
  },
  {
   "cell_type": "code",
   "execution_count": 29,
   "id": "4cdc9418-8479-40d3-a7e3-282398bca964",
   "metadata": {},
   "outputs": [
    {
     "data": {
      "text/plain": [
       "np.int32(1)"
      ]
     },
     "execution_count": 29,
     "metadata": {},
     "output_type": "execute_result"
    }
   ],
   "source": [
    "minimum = randomArray.min()\n",
    "minimum\n"
   ]
  },
  {
   "cell_type": "code",
   "execution_count": 30,
   "id": "e9915c0f-e245-4fb1-95ba-bb109b1061a2",
   "metadata": {},
   "outputs": [
    {
     "data": {
      "text/plain": [
       "np.float64(44.08)"
      ]
     },
     "execution_count": 30,
     "metadata": {},
     "output_type": "execute_result"
    }
   ],
   "source": [
    "meanOfArr = randomArray.mean()\n",
    "meanOfArr\n"
   ]
  },
  {
   "cell_type": "code",
   "execution_count": 31,
   "id": "653256b2-d1b0-463b-9bf5-465f642f5056",
   "metadata": {},
   "outputs": [
    {
     "data": {
      "text/plain": [
       "np.float64(28.7790479342177)"
      ]
     },
     "execution_count": 31,
     "metadata": {},
     "output_type": "execute_result"
    }
   ],
   "source": [
    "stdd = np.std(randomArray)\n",
    "stdd"
   ]
  }
 ],
 "metadata": {
  "kernelspec": {
   "display_name": "Python 3 (ipykernel)",
   "language": "python",
   "name": "python3"
  },
  "language_info": {
   "codemirror_mode": {
    "name": "ipython",
    "version": 3
   },
   "file_extension": ".py",
   "mimetype": "text/x-python",
   "name": "python",
   "nbconvert_exporter": "python",
   "pygments_lexer": "ipython3",
   "version": "3.13.7"
  }
 },
 "nbformat": 4,
 "nbformat_minor": 5
}
