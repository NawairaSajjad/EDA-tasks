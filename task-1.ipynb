{
 "cells": [
  {
   "cell_type": "markdown",
   "id": "26c37e4f-41bd-4e0b-a784-ff60bb1820f8",
   "metadata": {},
   "source": [
    "**Make a NumPy array of monthly Zakat collections (12 months). Show only the months above average.**\n"
   ]
  },
  {
   "cell_type": "code",
   "execution_count": 2,
   "id": "2582b395-49a3-48be-98a5-bb4e425a1454",
   "metadata": {},
   "outputs": [],
   "source": [
    "import numpy as np"
   ]
  },
  {
   "cell_type": "code",
   "execution_count": 6,
   "id": "4bda0ce0-4d89-45fa-93a0-8032dd01fbfa",
   "metadata": {},
   "outputs": [],
   "source": [
    "zakatCollection = np.array([120,1232,4543,34324,5665,3421,343,875,3243,986,19990,345])"
   ]
  },
  {
   "cell_type": "code",
   "execution_count": 22,
   "id": "21f8cbc8-1634-462e-b4f6-55304c51a58b",
   "metadata": {},
   "outputs": [
    {
     "data": {
      "text/plain": [
       "np.float64(6257.25)"
      ]
     },
     "execution_count": 22,
     "metadata": {},
     "output_type": "execute_result"
    }
   ],
   "source": [
    "avg = zakatCollection.mean()\n",
    "avg"
   ]
  },
  {
   "cell_type": "code",
   "execution_count": 21,
   "id": "0577b50d-bea8-4fa9-b9b5-744d681312bd",
   "metadata": {},
   "outputs": [
    {
     "data": {
      "text/plain": [
       "array([34324, 19990])"
      ]
     },
     "execution_count": 21,
     "metadata": {},
     "output_type": "execute_result"
    }
   ],
   "source": [
    "mask = zakatCollection > avg \n",
    "zakatCollection[mask]"
   ]
  },
  {
   "cell_type": "code",
   "execution_count": null,
   "id": "f8ce9f7a-f197-4335-a950-57eb218e0468",
   "metadata": {},
   "outputs": [],
   "source": []
  }
 ],
 "metadata": {
  "kernelspec": {
   "display_name": "Python 3 (ipykernel)",
   "language": "python",
   "name": "python3"
  },
  "language_info": {
   "codemirror_mode": {
    "name": "ipython",
    "version": 3
   },
   "file_extension": ".py",
   "mimetype": "text/x-python",
   "name": "python",
   "nbconvert_exporter": "python",
   "pygments_lexer": "ipython3",
   "version": "3.13.7"
  }
 },
 "nbformat": 4,
 "nbformat_minor": 5
}
