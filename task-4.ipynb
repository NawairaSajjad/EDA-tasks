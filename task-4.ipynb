{
 "cells": [
  {
   "cell_type": "markdown",
   "id": "b162f0b9-fc22-4a6d-981c-0e396976e0ca",
   "metadata": {},
   "source": [
    "# Build a DataFrame of Islamic bank products (Product, Revenue, Customers). Find which product earns the highest revenue.\n"
   ]
  },
  {
   "cell_type": "code",
   "execution_count": 3,
   "id": "d70aff02-8f50-4273-833a-273787aa5daf",
   "metadata": {},
   "outputs": [],
   "source": [
    "import pandas as pd\n",
    "import numpy as np"
   ]
  },
  {
   "cell_type": "code",
   "execution_count": 6,
   "id": "6a56cb4b-753f-423a-aaec-ebb64b6d5d55",
   "metadata": {},
   "outputs": [],
   "source": [
    "products = [\"Murabaha\", \"Ijarah\", \"Mudarabah\", \"Sukuk\", \"Istisna\", \"Takaful\"]\n",
    "revenue = np.random.randint(50, 500, size=len(products)) * 1_000_000  # in millions\n",
    "customers = np.random.randint(1000, 20000, size=len(products))\n",
    "\n"
   ]
  },
  {
   "cell_type": "code",
   "execution_count": 10,
   "id": "bd0f8b74-96a1-4197-a68d-b8ab0d7f392e",
   "metadata": {},
   "outputs": [
    {
     "data": {
      "text/html": [
       "<div>\n",
       "<style scoped>\n",
       "    .dataframe tbody tr th:only-of-type {\n",
       "        vertical-align: middle;\n",
       "    }\n",
       "\n",
       "    .dataframe tbody tr th {\n",
       "        vertical-align: top;\n",
       "    }\n",
       "\n",
       "    .dataframe thead th {\n",
       "        text-align: right;\n",
       "    }\n",
       "</style>\n",
       "<table border=\"1\" class=\"dataframe\">\n",
       "  <thead>\n",
       "    <tr style=\"text-align: right;\">\n",
       "      <th></th>\n",
       "      <th>Product</th>\n",
       "      <th>Revenue</th>\n",
       "      <th>Customers</th>\n",
       "    </tr>\n",
       "  </thead>\n",
       "  <tbody>\n",
       "    <tr>\n",
       "      <th>0</th>\n",
       "      <td>Murabaha</td>\n",
       "      <td>411000000</td>\n",
       "      <td>17471</td>\n",
       "    </tr>\n",
       "    <tr>\n",
       "      <th>1</th>\n",
       "      <td>Ijarah</td>\n",
       "      <td>178000000</td>\n",
       "      <td>7018</td>\n",
       "    </tr>\n",
       "    <tr>\n",
       "      <th>2</th>\n",
       "      <td>Mudarabah</td>\n",
       "      <td>458000000</td>\n",
       "      <td>7592</td>\n",
       "    </tr>\n",
       "    <tr>\n",
       "      <th>3</th>\n",
       "      <td>Sukuk</td>\n",
       "      <td>188000000</td>\n",
       "      <td>1438</td>\n",
       "    </tr>\n",
       "    <tr>\n",
       "      <th>4</th>\n",
       "      <td>Istisna</td>\n",
       "      <td>380000000</td>\n",
       "      <td>8515</td>\n",
       "    </tr>\n",
       "    <tr>\n",
       "      <th>5</th>\n",
       "      <td>Takaful</td>\n",
       "      <td>95000000</td>\n",
       "      <td>17353</td>\n",
       "    </tr>\n",
       "  </tbody>\n",
       "</table>\n",
       "</div>"
      ],
      "text/plain": [
       "     Product    Revenue  Customers\n",
       "0   Murabaha  411000000      17471\n",
       "1     Ijarah  178000000       7018\n",
       "2  Mudarabah  458000000       7592\n",
       "3      Sukuk  188000000       1438\n",
       "4    Istisna  380000000       8515\n",
       "5    Takaful   95000000      17353"
      ]
     },
     "execution_count": 10,
     "metadata": {},
     "output_type": "execute_result"
    }
   ],
   "source": [
    "df = pd.DataFrame({\n",
    "    \"Product\": products,\n",
    "    \"Revenue\": revenue,\n",
    "    \"Customers\": customers\n",
    "})\n",
    "df"
   ]
  },
  {
   "cell_type": "code",
   "execution_count": 16,
   "id": "f13b9fc5-5ce1-4498-a88c-238fb5d109f1",
   "metadata": {},
   "outputs": [
    {
     "data": {
      "text/plain": [
       "Product      Mudarabah\n",
       "Revenue      458000000\n",
       "Customers         7592\n",
       "Name: 2, dtype: object"
      ]
     },
     "execution_count": 16,
     "metadata": {},
     "output_type": "execute_result"
    }
   ],
   "source": [
    "maxrev = df.loc[df[\"Revenue\"].idxmax()]\n",
    "maxrev\n"
   ]
  }
 ],
 "metadata": {
  "kernelspec": {
   "display_name": "Python 3 (ipykernel)",
   "language": "python",
   "name": "python3"
  },
  "language_info": {
   "codemirror_mode": {
    "name": "ipython",
    "version": 3
   },
   "file_extension": ".py",
   "mimetype": "text/x-python",
   "name": "python",
   "nbconvert_exporter": "python",
   "pygments_lexer": "ipython3",
   "version": "3.13.7"
  }
 },
 "nbformat": 4,
 "nbformat_minor": 5
}
